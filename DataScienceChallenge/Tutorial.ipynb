{
 "cells": [
  {
   "cell_type": "markdown",
   "metadata": {},
   "source": [
    "# Tutorial\n",
    "\n",
    "엘리스 데이터사이언스 챌린지에 오신걸 환영합니다! \n",
    "\n",
    "많은 분들이 열심히 만드신 모델을 제출하시는데 어려움을 겪고 계셔서 제출 튜토리얼을 만들었습니다. 본 튜토리얼에서 바로 실행해서 제출도 가능하고, 직접 작성하신 노트북에서도 가능합니다.\n",
    "\n",
    "우선 엘리스 챌린지 제출 라이브러리를 불러옵니다."
   ]
  },
  {
   "cell_type": "code",
   "execution_count": 4,
   "metadata": {},
   "outputs": [],
   "source": [
    "import elice_challenge as ec"
   ]
  },
  {
   "cell_type": "markdown",
   "metadata": {},
   "source": [
    "# Login"
   ]
  },
  {
   "cell_type": "code",
   "execution_count": 2,
   "metadata": {
    "scrolled": true
   },
   "outputs": [
    {
     "name": "stdout",
     "output_type": "stream",
     "text": [
      "email > ········\n",
      "password > ········\n",
      "정상적으로 로그인 되었습니다.\n"
     ]
    }
   ],
   "source": [
    "ec.login()"
   ]
  },
  {
   "cell_type": "markdown",
   "metadata": {},
   "source": [
    "본인 인증을 위해 로그인 해주세요. (로그인시 엘리스 가입 이메일주소와 비밀번호가 필요합니다. 소셜로그인으로 비밀번호가 없으신 분은 다음 튜토리얼을 참고해주세요! https://goo.gl/eXZsEr)"
   ]
  },
  {
   "cell_type": "markdown",
   "metadata": {},
   "source": [
    "# Test\n",
    "\n",
    "제출을 하기 전에, 테스트를 해 볼 수 있습니다. 테스트를 위해서는, `/elice/data/test.input` 을 입력으로 받아, 만들어진 결과를 `submission.txt` 에 저장하고, `ec.test()` 를 부릅니다."
   ]
  },
  {
   "cell_type": "markdown",
   "metadata": {},
   "source": [
    "`submission.txt` 가 없는 경우 다음과 같은 에러가 발생합니다. `submission.txt`는 다음과 같이 Jupyter의 루트 디렉토리에 있어야 합니다.\n",
    "\n",
    "```\n",
    "+-+ /\n",
    "  +- Tutorial.ipynb\n",
    "  +- submission.txt\n",
    "```"
   ]
  },
  {
   "cell_type": "code",
   "execution_count": 5,
   "metadata": {},
   "outputs": [
    {
     "name": "stdout",
     "output_type": "stream",
     "text": [
      "테스트 데이터를 사용해, test.output 과 submission.txt 의 내용을 비교합니다.\n",
      "submission.txt를 읽을 수 없습니다.\n",
      "\n"
     ]
    },
    {
     "data": {
      "text/plain": [
       "0"
      ]
     },
     "execution_count": 5,
     "metadata": {},
     "output_type": "execute_result"
    }
   ],
   "source": [
    "ec.test()"
   ]
  },
  {
   "cell_type": "markdown",
   "metadata": {},
   "source": [
    "`submission.txt`가 준비되었으면 test를 다시 실행해봅니다. 이 때, `/elice/data/test.input` 에 들어있는 한줄평의 개수와 `submission.txt` 에 들어있는 클래스의 개수는 같아야 합니다. 만약 같지 않으면 다음과 같은 에러가 발생합니다."
   ]
  },
  {
   "cell_type": "code",
   "execution_count": 6,
   "metadata": {},
   "outputs": [
    {
     "name": "stdout",
     "output_type": "stream",
     "text": [
      "테스트 데이터를 사용해, test.output 과 submission.txt 의 내용을 비교합니다.\n",
      "submission 데이터 개수 = 0\n",
      "\n",
      "답안 데이터 개수 = 10000\n",
      "\n",
      "submission.txt에 들어 있는 데이터의 개수가 답안과 다릅니다.\n",
      "\n"
     ]
    },
    {
     "data": {
      "text/plain": [
       "0"
      ]
     },
     "execution_count": 6,
     "metadata": {},
     "output_type": "execute_result"
    }
   ],
   "source": [
    "ec.test()"
   ]
  },
  {
   "cell_type": "markdown",
   "metadata": {},
   "source": [
    "데이터의 개수가 동일하다면 다음과 같이 정상적으로 테스트가 진행됩니다. `submission.txt`에 `/elice/data/test.output` 을 넣은 결과입니다."
   ]
  },
  {
   "cell_type": "code",
   "execution_count": 7,
   "metadata": {},
   "outputs": [
    {
     "name": "stdout",
     "output_type": "stream",
     "text": [
      "테스트 데이터를 사용해, test.output 과 submission.txt 의 내용을 비교합니다.\n",
      "submission 데이터 개수 = 10000\n",
      "\n",
      "답안 데이터 개수 = 10000\n",
      "\n",
      "Accuracy: 1.00000\n",
      "Score: 100 pts.\n"
     ]
    }
   ],
   "source": [
    "ec.test()"
   ]
  },
  {
   "cell_type": "markdown",
   "metadata": {},
   "source": [
    "# Upload\n",
    "\n",
    "테스트가 완료된 경우, 이제 여러분이 제작한 모델을 `/elice/data/grading.input` 에 대해 동작시킨 뒤, 그 결과를 `submission.txt` 에 저장합니다. 그 후, 업로드를 진행합니다."
   ]
  },
  {
   "cell_type": "code",
   "execution_count": 19,
   "metadata": {},
   "outputs": [
    {
     "name": "stdout",
     "output_type": "stream",
     "text": [
      "이전에 업로드 된 파일 삭제 중...\n",
      "submission.txt 업로드 중...\n",
      "submission.txt: 17563 bytes\n",
      "업로드 중: submission.txt\n",
      "업로드가 완료되었습니다.\n",
      "submit() 으로 점수를 확인할 수 있습니다.\n"
     ]
    }
   ],
   "source": [
    "ec.upload()"
   ]
  },
  {
   "cell_type": "markdown",
   "metadata": {},
   "source": [
    "# Submit\n",
    "\n",
    "이제 업로드가 완료되면 제출을 통해 점수를 확인할 수 있습니다."
   ]
  },
  {
   "cell_type": "code",
   "execution_count": null,
   "metadata": {},
   "outputs": [],
   "source": [
    "ec.submit()"
   ]
  }
 ],
 "metadata": {
  "kernelspec": {
   "display_name": "Python 3",
   "language": "python",
   "name": "python3"
  },
  "language_info": {
   "codemirror_mode": {
    "name": "ipython",
    "version": 3
   },
   "file_extension": ".py",
   "mimetype": "text/x-python",
   "name": "python",
   "nbconvert_exporter": "python",
   "pygments_lexer": "ipython3",
   "version": "3.6.3"
  }
 },
 "nbformat": 4,
 "nbformat_minor": 2
}
